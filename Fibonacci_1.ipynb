{
 "cells": [
  {
   "cell_type": "markdown",
   "metadata": {},
   "source": [
    "The first two entries in the **Fibonacci series** ($F_1$ and $F_2$) are $1$. All subsequent entries are obtained by adding \n",
    "the previous two entries, giving us $ 1, 1, 2, 3, 5, 8, ...$\n",
    "\n",
    "I will also use $F_0 = 0$ for completeness.\n",
    "\n",
    "$F_n$, the $n^{th}$ Fibonacci number is calculated as you would expect:\n",
    "$F_n = F_{n-1} + F_{n-2}$\n",
    "\n",
    "For more information on this fascinating subject, google! Or, if you're too lazy, [here's](https://en.wikipedia.org/wiki/Fibonacci_number) the wikipedia page.\n",
    "\n",
    "---\n",
    "\n",
    "In the rest of this notebook, we will calculate Fibonacci numbers in a variety of different ways, and explore \n",
    "a bit of python along the way\n",
    "\n",
    "__Python concepts__: names, for loops, printing, comments\n",
    "\n",
    "Let's start with a straightforward approach \n",
    "   We use two names, $n_1$ and $n_2$ to correspond to the previous Fibonacci number and the one before \n",
    "   that, respectively. At the beginning, these are the first two Fibonacci numbers, with values $1$ and $1$.\n",
    "   We then *iterate* -- execute a block of code repeatedly -- for $n-2$ steps. In each step we calculate the \n",
    "   current Fibonacci number as the sum of the last two fibonacci numbers and update the values\n",
    "   of $n_1$ and $n_2$ appropriately. Finally, after the required\n",
    "   Fibonacci number has been calculated, we print it out\n",
    "   \n",
    "   There is a commented *print* statement in the *for* loop -- uncomment this if you want to observe the code \n",
    "   in action  "
   ]
  },
  {
   "cell_type": "code",
   "execution_count": 3,
   "metadata": {},
   "outputs": [
    {
     "name": "stdout",
     "output_type": "stream",
     "text": [
      "Enter n: 10\n",
      "i: 2 sum 0 n1 1 n2 1\n",
      "i: 3 sum 2 n1 1 n2 2\n",
      "i: 4 sum 3 n1 2 n2 3\n",
      "i: 5 sum 5 n1 3 n2 5\n",
      "i: 6 sum 8 n1 5 n2 8\n",
      "i: 7 sum 13 n1 8 n2 13\n",
      "i: 8 sum 21 n1 13 n2 21\n",
      "i: 9 sum 34 n1 21 n2 34\n",
      "fib( 10 ) = 55\n"
     ]
    }
   ],
   "source": [
    "# First approach to computing the nth Fibonacci number\n",
    "n_1 = 1\n",
    "n_2 = 1\n",
    "sum = 0\n",
    "n = int(input('Enter n: '))\n",
    "for i in range(2,n):\n",
    "    print('i:', i, 'sum', sum, 'n1', n_1, 'n2', n_2)\n",
    "    sum = n_1 + n_2\n",
    "    n_1 = n_2\n",
    "    n_2 = sum\n",
    "print('fib(',n,') =', sum)"
   ]
  },
  {
   "cell_type": "code",
   "execution_count": null,
   "metadata": {},
   "outputs": [],
   "source": [
    "# Let's do it without the sum variable!\n",
    "n_1 = 1\n",
    "n_2 = 1\n",
    "sum = 0\n",
    "n = int(input('Enter n: '))\n",
    "for i in range(2,n):\n",
    "    #print('i:', i, 'n1', n_1, 'n2', n_2)\n",
    "    n_1, n_2 = n_2, n_1 + n_2 \n",
    "\n",
    "print('fib(',n,') =', n_2)"
   ]
  },
  {
   "cell_type": "markdown",
   "metadata": {},
   "source": [
    "\n",
    "[input and output]\n",
    "[comments]\n",
    "[indentation and : to define a block]\n",
    "[variables]\n",
    "\n",
    "The **Lucas series** $2, 1, 3, 4, 7, 11, ...$ is very similar to the Fibonacci series - the $n^{th}$ Lucas number is\n",
    "$L_n = L_{n-1} + L_{n-2}$\n",
    "\n",
    "Can you identify the single difference that will generate a Lucas number rather than a Fibonacci number?\n",
    "\n",
    "Here's an exercise: use the cell below to print out the requested Lucas number. The code will be the same as that \n",
    "for computing the Fibonacci number, but with changes in exactly two lines"
   ]
  },
  {
   "cell_type": "code",
   "execution_count": null,
   "metadata": {},
   "outputs": [],
   "source": [
    "# enter your code for calculating the nth Lucas number here\n"
   ]
  },
  {
   "cell_type": "markdown",
   "metadata": {},
   "source": [
    "Of course, you can generate different kinds of series now, with different starting points and different \n",
    "'generating rules'!\n",
    "\n",
    "---\n",
    "\n",
    "__Python concepts__: functions\n",
    "\n",
    "I hope you realized what a waste it was to copy code from one cell and paste it in another. In this scheme, if \n",
    "we found an error in our code for Fibonacci numbers, we would fix it, and then go to each place we have copied it \n",
    "and make the same fix everywhere!\n",
    "\n",
    "Indeed, in the current scenario, we need to copy this chunk of code everytime we need to calculate a Fibonacci number, \n",
    "and if we find a bug in one instance....\n",
    "\n",
    "Okay, so how do we fix this? Python (and most programming languages) allow us to define our own functions, like so:\n"
   ]
  },
  {
   "cell_type": "code",
   "execution_count": null,
   "metadata": {},
   "outputs": [],
   "source": [
    "def fib(n):\n",
    "    n_1 = 1\n",
    "    n_2 = 1\n",
    "    for i in range(2,n):\n",
    "        # print('i:', i, 'n1', n_1, 'n2', n_2)\n",
    "        n_1, n_2 = n_2, n_1 + n_2\n",
    "    print('fib(',n,') =', n_2)"
   ]
  },
  {
   "cell_type": "markdown",
   "metadata": {},
   "source": [
    "and then we simply *call* the function:"
   ]
  },
  {
   "cell_type": "code",
   "execution_count": null,
   "metadata": {},
   "outputs": [],
   "source": [
    "n = int(input('Enter n: '))\n",
    "fib(n)"
   ]
  },
  {
   "cell_type": "markdown",
   "metadata": {},
   "source": [
    "This is progress, but observe two shortcomings:\n",
    "- what if we want to *use* $F_n$, not simply print it out?\n",
    "- how does this help with calculating $L_n$?\n",
    "\n",
    "For the first, we modify the function to *return* the value, instead of printing it out:"
   ]
  },
  {
   "cell_type": "code",
   "execution_count": null,
   "metadata": {},
   "outputs": [],
   "source": [
    "def fib(n):\n",
    "    n_1 = 1\n",
    "    n_2 = 1\n",
    "    sum = 0\n",
    "    for i in range(2,n):\n",
    "        # print('i:', i, 'n1', n_1, 'n2', n_2)\n",
    "        n_1, n_2 = n_2, n_1 + n_2\n",
    "    return n_2"
   ]
  },
  {
   "cell_type": "markdown",
   "metadata": {},
   "source": [
    "And we use it thusly:"
   ]
  },
  {
   "cell_type": "code",
   "execution_count": null,
   "metadata": {},
   "outputs": [],
   "source": [
    "n = int(input('Enter n: '))\n",
    "f_n = fib(n)\n",
    "print('fib(',n,') =', f_n)"
   ]
  },
  {
   "cell_type": "markdown",
   "metadata": {},
   "source": [
    "For the second, we can send in the first two values of the series as arguments. So:"
   ]
  },
  {
   "cell_type": "code",
   "execution_count": null,
   "metadata": {},
   "outputs": [],
   "source": [
    "def fib(n, n_1, n_2):\n",
    "    for i in range(2,n):\n",
    "        # print('i:', i, 'n1', n_1, 'n2', n_2)\n",
    "        n_1, n_2 = n_2, n_1 + n_2\n",
    "    return n_2"
   ]
  },
  {
   "cell_type": "markdown",
   "metadata": {},
   "source": [
    "And we call the function as follows:"
   ]
  },
  {
   "cell_type": "code",
   "execution_count": null,
   "metadata": {},
   "outputs": [],
   "source": [
    "n = int(input('Enter n: '))\n",
    "f_n = fib(n, 1, 1)\n",
    "print('fib(',n,') =', f_n)"
   ]
  },
  {
   "cell_type": "markdown",
   "metadata": {},
   "source": [
    "Now try modifying the arguments to *fib* to have it return the $n^{th}$ Lucas number:"
   ]
  },
  {
   "cell_type": "code",
   "execution_count": null,
   "metadata": {},
   "outputs": [],
   "source": [
    "n = int(input('Enter n: '))\n",
    "# change this call to fib so that we get the nth Lucas number\n",
    "f_n = fib(n, 1, 1)\n",
    "print('fib(',n,') =', f_n)"
   ]
  },
  {
   "cell_type": "markdown",
   "metadata": {},
   "source": [
    "Did you have a bit of cognitive dissonance just now? The function is no longer returning the $n^{th}$ Fibonacci number, so we should change the name!\n",
    "\n",
    "A **Generalized Fibonacci Sequence** satisfies $f_n = f_{n-1} + f_{n-2}$ with starting values $f_1 = p$ and $f_2 = q$"
   ]
  },
  {
   "cell_type": "code",
   "execution_count": null,
   "metadata": {},
   "outputs": [],
   "source": [
    "def GeneralizedFib(n, p, q):\n",
    "    for i in range(2,n):\n",
    "        # print('i:', i, 'n1', n_1, 'n2', n_2)\n",
    "        p, q = q, p + q        \n",
    "    return q"
   ]
  },
  {
   "cell_type": "markdown",
   "metadata": {},
   "source": [
    "One last refinement: what if this function were called mostly for Fibonacci numbers? we'd always be giving the last two arguments as $1$, and this can get tedious and boring and we're lazy! Python allows us to set *default* arguments like so:"
   ]
  },
  {
   "cell_type": "code",
   "execution_count": null,
   "metadata": {},
   "outputs": [],
   "source": [
    "def GeneralizedFib(n, p = 1, q = 1):\n",
    "    for i in range(2,n):\n",
    "        # print('i:', i, 'p', p, 'q', q)\n",
    "        p, q= q, p + q        \n",
    "    return q"
   ]
  },
  {
   "cell_type": "markdown",
   "metadata": {},
   "source": [
    "So that we can call \n",
    "\n",
    "    GeneralizedFib(n, 1, 1) ## as before\n",
    "    \n",
    "or \n",
    "\n",
    "    GeneralizedFib(n) ## same to same\n",
    "    \n",
    "for Fibonacci numbers, and\n",
    "\n",
    "    GeneralizedFib(n, 2, 1)\n",
    "    \n",
    "for Lucas numbers!"
   ]
  },
  {
   "cell_type": "code",
   "execution_count": null,
   "metadata": {},
   "outputs": [],
   "source": [
    "n = int(input('Enter n: '))\n",
    "f_n = GeneralizedFib(n)\n",
    "l_n = GeneralizedFib(n, 2, 1)\n",
    "print('fib(', n,') =', f_n, '\\tL(', n, ') =', l_n)"
   ]
  },
  {
   "cell_type": "markdown",
   "metadata": {},
   "source": [
    "\n",
    "<h3>Exercises</h3>\n",
    "<ol>\n",
    "<li>\n",
    "   The examples thus far have printed out the $n^{th}$ number of a series. \n",
    "   Modify this code to print the entire series up to $n$\n",
    "    The desired output is:\n",
    "\n",
    "Enter n: 12\n",
    "<pre>\n",
    " 1:        1        2\n",
    "\n",
    " 2:        1        1\n",
    "\n",
    " 3:        2        3\n",
    "\n",
    " 4:        3        4\n",
    "\n",
    " 5:        5        7\n",
    "\n",
    " 6:        8        11\n",
    "\n",
    " ...\n",
    "\n",
    "</pre>\n",
    "Don't change the function that we've defined -- call it multiple times to get the desired values and print them out\n",
    "</li>\n",
    "\n",
    "<li>\n",
    "        Guess what a <b>Tribonacci sequence</b> is -- each term is the sum of the three preceeding terms. \n",
    "\n",
    "Implement\n",
    "    \n",
    "        GeneralizedTri(n, p, q, r)\n",
    "       \n",
    "    that does 'the right thing'\n",
    "</li>\n",
    "\n",
    "<li>\n",
    "Can you write a function that combines GeneralizedFib and GeneralizedTri and, well, generalizes this? i.e., it \n",
    "    should return a sequence that is the sum of the previous $k$ terms, where $k$ is an input parameter (default \n",
    "    is $2$, the Fibonacci number\n",
    "</li>\n",
    "\n",
    "<li>\n",
    "The <b>factorial</b> of a number $n$ is defined as\n",
    "\n",
    "    $n! = n \\times n-1 \\times n-2 \\dots 3 \\times 2 \\times 1$\n",
    "\n",
    "and by definition, $0! = 1$. Write a function factorial(n) that returns the factorial of the given number\n",
    "</li>\n",
    "\n",
    "<li>\n",
    "    The <b>Binomial Coefficient</b> $C(n, k)$ is the number of ways of choosing $k$ things from $n$ is computed by\n",
    "\n",
    "    $C(n,k) = \\frac{n!}{(n-k)!k!}$\n",
    "    \n",
    "    Write a function to compute $C(n, k)$ using the factorial function defined above\n",
    "</li>"
   ]
  },
  {
   "cell_type": "markdown",
   "metadata": {},
   "source": [
    "Other notebooks in this series:\n",
    "1. More efficient methods to computing Fibonacci Numbers\n",
    "2. Plotting - Fibnonacci numbers, Lucas numbers, golden ratios, binomial coefficients\n",
    "3. Other small identities: Pascals Triangle, Triangular numbers, generating pythagorean triples\n",
    "4. Golomb's sequence\n"
   ]
  }
 ],
 "metadata": {
  "kernelspec": {
   "display_name": "Python 3",
   "language": "python",
   "name": "python3"
  },
  "language_info": {
   "codemirror_mode": {
    "name": "ipython",
    "version": 3
   },
   "file_extension": ".py",
   "mimetype": "text/x-python",
   "name": "python",
   "nbconvert_exporter": "python",
   "pygments_lexer": "ipython3",
   "version": "3.6.4"
  },
  "latex_envs": {
   "LaTeX_envs_menu_present": true,
   "autoclose": false,
   "autocomplete": true,
   "bibliofile": "biblio.bib",
   "cite_by": "apalike",
   "current_citInitial": 1,
   "eqLabelWithNumbers": true,
   "eqNumInitial": 1,
   "hotkeys": {
    "equation": "Ctrl-E",
    "itemize": "Ctrl-I"
   },
   "labels_anchors": false,
   "latex_user_defs": false,
   "report_style_numbering": false,
   "user_envs_cfg": false
  }
 },
 "nbformat": 4,
 "nbformat_minor": 2
}
