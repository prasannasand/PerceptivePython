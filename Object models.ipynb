{
 "cells": [
  {
   "cell_type": "markdown",
   "metadata": {},
   "source": [
    "Everything in python is an object. Objects have three properties:\n",
    "- id\n",
    "- value\n",
    "- type\n",
    "\n",
    "The *id* of an object is constant throughout the lifetime of the object\n",
    "\n",
    "An object may be _mutable_, in which case its *value* can change. If the object is _immutable_, its value cannot change"
   ]
  },
  {
   "cell_type": "code",
   "execution_count": null,
   "metadata": {},
   "outputs": [],
   "source": [
    "dir(5)\n",
    "print((5).bit_length())\n"
   ]
  },
  {
   "cell_type": "code",
   "execution_count": null,
   "metadata": {},
   "outputs": [],
   "source": [
    "## id of objects\n",
    "\n",
    "a = 5\n",
    "b = 5\n",
    "print(\"id of 5 is \", id(5))\n",
    "print(\"id of a is \", id(a))\n",
    "print(\"id of b is \", id(b))\n",
    "print()\n",
    "\n",
    "b = 6\n",
    "print(\"id of 5 is \", id(5))\n",
    "print(\"id of 6 is \", id(6))\n",
    "print(\"id of a is \", id(a))\n",
    "print(\"id of b is \", id(b))\n",
    "print()\n",
    "\n",
    "# list of items\n",
    "aList = [1, 2, 3]\n",
    "print(\"id of     aList\", id(aList))\n",
    "print(\"id of [1, 2, 3]\", id([1, 2, 3]))\n",
    "print(\"id of  aList[0]\", id(aList[0]))\n",
    "print(\"id of         1\", id(1))"
   ]
  },
  {
   "cell_type": "code",
   "execution_count": null,
   "metadata": {},
   "outputs": [],
   "source": [
    "def printId(name, var):\n",
    "    print(\"id of \", name, \" is \", id(var))\n",
    "    #print(\"id of \", name, \" is \", id(var), \": id of name is \", id(name))\n",
    "    \n",
    "a = 5\n",
    "b = 5\n",
    "printId('a', a)\n",
    "printId('b', b)\n",
    "printId('5', 5)\n",
    "\n",
    "print(\"foo\")"
   ]
  },
  {
   "cell_type": "code",
   "execution_count": null,
   "metadata": {},
   "outputs": [],
   "source": [
    "def printType(name, var):\n",
    "    print(\"Type of \", name, \" is \", type(var))\n",
    "    \n",
    "a = 5\n",
    "printId('a', a)\n",
    "printId('5', 5)\n",
    "printType('a', a)\n",
    "printType('5', 5)\n",
    "\n",
    "a = 5.5\n",
    "printId('  a', a)\n",
    "printId('5.5', 5.5)\n",
    "printType('  a', a)\n",
    "printType('5.5', 5.5)\n"
   ]
  },
  {
   "cell_type": "code",
   "execution_count": null,
   "metadata": {},
   "outputs": [],
   "source": [
    "def printValue(name, var):\n",
    "    print(\"Value of \", name, \"is \", var)\n",
    "\n",
    "printValue('  a', a)\n",
    "printValue('5.5', 5.5)\n"
   ]
  },
  {
   "cell_type": "code",
   "execution_count": null,
   "metadata": {},
   "outputs": [],
   "source": [
    "printValue('foo', 'foo')\n",
    "a = \"bar\"\n",
    "printValue('a', a)\n",
    "printId('  a', a)\n",
    "printId(\"bar\", \"bar\")"
   ]
  },
  {
   "cell_type": "code",
   "execution_count": null,
   "metadata": {},
   "outputs": [],
   "source": [
    "## Sequences\n",
    "# Tuples\n",
    "a = (1, 2, 3)\n",
    "printType(\"a\", a)\n",
    "printId('a', a)\n",
    "printValue('a', a)\n",
    "print()\n",
    "printType(\"a[0]\", a[0])\n",
    "printId('a[0]', a[0])\n",
    "printId('1', 1)\n",
    "printValue('a[0]', a[0])\n",
    "print()\n"
   ]
  },
  {
   "cell_type": "code",
   "execution_count": null,
   "metadata": {},
   "outputs": [],
   "source": [
    "# Lists\n",
    "a = [1, 2, 3]\n",
    "printType(\"[]\", a)\n",
    "printId('a', a)\n",
    "printValue('a', a)\n",
    "print()\n",
    "printType(\"[][0]\", a[0])\n",
    "printId('a[0]', a[0])\n",
    "printId('1', 1)\n",
    "printValue('a[0]', a[0])\n",
    "print()"
   ]
  },
  {
   "cell_type": "code",
   "execution_count": null,
   "metadata": {},
   "outputs": [],
   "source": [
    "a = \"foobar\"\n",
    "printType(\"a\", a)\n",
    "printId('a', a)\n",
    "printValue('a', a)\n",
    "print()\n",
    "printType(\"a[0]\", a[0])\n",
    "printId('a[0]', a[0])\n",
    "printId('f', 'f')\n",
    "printValue('a[0]', a[0])\n",
    "print()"
   ]
  },
  {
   "cell_type": "code",
   "execution_count": null,
   "metadata": {},
   "outputs": [],
   "source": [
    "#not a sequence\n",
    "a = complex(4, 5)\n",
    "printType(\"4+5i\", a)\n",
    "printId('a', a)\n",
    "printValue('a', a)\n",
    "print()\n",
    "printType(\"real(4+5i)\", a.real)\n",
    "printId('a.real', a.real)\n",
    "printId('4', 4)\n",
    "printId('4.0', 4.0)\n",
    "printValue('a.real', a.real)\n",
    "print()"
   ]
  },
  {
   "cell_type": "code",
   "execution_count": null,
   "metadata": {},
   "outputs": [],
   "source": [
    "dir((1, 2))"
   ]
  },
  {
   "cell_type": "code",
   "execution_count": null,
   "metadata": {},
   "outputs": [],
   "source": [
    "a = 6\n",
    "print(type(a) is type(5))\n",
    "print(id(a) is id(6))\n",
    "print(a is 6)\n",
    "printId('a', a)\n",
    "printId('6', 6)"
   ]
  },
  {
   "cell_type": "code",
   "execution_count": null,
   "metadata": {},
   "outputs": [],
   "source": [
    "a = [1, 2, 3]\n",
    "printId('a', a)\n",
    "a = [1, 2, 3, 4]\n",
    "printId('a', a)\n",
    "a += [5]\n",
    "printId('a', a)\n",
    "a.append(6)\n",
    "printId('a', a)\n",
    "print()\n",
    "print(a)"
   ]
  },
  {
   "cell_type": "code",
   "execution_count": null,
   "metadata": {},
   "outputs": [],
   "source": [
    "#lists can be changed, tuples cannot:\n",
    "a = (1, 2, 3)\n",
    "printId('a', a)\n",
    "a += (5,)\n",
    "printId('a', a)\n",
    "print(a)"
   ]
  },
  {
   "cell_type": "code",
   "execution_count": null,
   "metadata": {},
   "outputs": [],
   "source": [
    "printId('printId', printId)\n",
    "printType('printId', printId)\n",
    "printValue('printId', printId)"
   ]
  },
  {
   "cell_type": "code",
   "execution_count": null,
   "metadata": {},
   "outputs": [],
   "source": [
    "dir(printId)"
   ]
  },
  {
   "cell_type": "code",
   "execution_count": null,
   "metadata": {},
   "outputs": [],
   "source": [
    "printId.__name__"
   ]
  },
  {
   "cell_type": "code",
   "execution_count": null,
   "metadata": {},
   "outputs": [],
   "source": [
    "printId.__code__"
   ]
  },
  {
   "cell_type": "code",
   "execution_count": null,
   "metadata": {},
   "outputs": [],
   "source": [
    "## names and bindings\n",
    "# LHS = RHS is simply a binding"
   ]
  }
 ],
 "metadata": {
  "kernelspec": {
   "display_name": "Python 3",
   "language": "python",
   "name": "python3"
  },
  "language_info": {
   "codemirror_mode": {
    "name": "ipython",
    "version": 3
   },
   "file_extension": ".py",
   "mimetype": "text/x-python",
   "name": "python",
   "nbconvert_exporter": "python",
   "pygments_lexer": "ipython3",
   "version": "3.6.4"
  },
  "latex_envs": {
   "LaTeX_envs_menu_present": true,
   "autoclose": false,
   "autocomplete": true,
   "bibliofile": "biblio.bib",
   "cite_by": "apalike",
   "current_citInitial": 1,
   "eqLabelWithNumbers": true,
   "eqNumInitial": 1,
   "hotkeys": {
    "equation": "Ctrl-E",
    "itemize": "Ctrl-I"
   },
   "labels_anchors": false,
   "latex_user_defs": false,
   "report_style_numbering": false,
   "user_envs_cfg": false
  }
 },
 "nbformat": 4,
 "nbformat_minor": 2
}
